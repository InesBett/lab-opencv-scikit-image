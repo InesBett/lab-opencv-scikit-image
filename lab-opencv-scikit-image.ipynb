{
 "cells": [
  {
   "cell_type": "markdown",
   "metadata": {},
   "source": [
    "## Computer VIsion"
   ]
  },
  {
   "cell_type": "markdown",
   "metadata": {},
   "source": [
    "For this lab, we will learn how to open images using openCV and do some basic image pre-processing with scikit-image:\n",
    "- OpenCV: https://opencv.org/\n",
    "- Scikit-image: https://scikit-image.org/"
   ]
  },
  {
   "cell_type": "markdown",
   "metadata": {},
   "source": [
    "<h3 style=\"color: #0099CC;\">Libraries</h3>"
   ]
  },
  {
   "cell_type": "code",
   "execution_count": null,
   "metadata": {},
   "outputs": [],
   "source": [
    "# pip install opencv-python\n",
    "# pip install scikit-image"
   ]
  },
  {
   "cell_type": "code",
   "execution_count": 8,
   "metadata": {},
   "outputs": [],
   "source": [
    "# 📚 Basic libraries\n",
    "import numpy as np # images will be converted to a numpy array\n",
    "from matplotlib import pyplot as plt # 2D visualizations\n",
    "import warnings\n",
    "warnings.filterwarnings(\"ignore\")\n",
    "\n",
    "# 🌐 Computer Vision \n",
    "import cv2 # computer vision management \n",
    "from skimage.transform import rescale, resize, downscale_local_mean # computer vision pre-processing\n",
    "\n",
    "# 🤖 Computer Vision Machine Learning\n",
    "\n",
    "# Circular and Elliptical Hough Transforms\\\n",
    "from skimage import data, color\n",
    "from skimage.transform import hough_circle, hough_circle_peaks # \n",
    "from skimage.feature import canny\n",
    "from skimage.draw import circle_perimeter\n",
    "from skimage.util import img_as_ubyte\n",
    "\n",
    "# Trainable segmentation using local features and random forests\n",
    "from skimage import data, segmentation, feature, future\n",
    "from sklearn.ensemble import RandomForestClassifier\n",
    "from functools import partial"
   ]
  },
  {
   "cell_type": "markdown",
   "metadata": {},
   "source": [
    "<h3 style=\"color: #0099CC;\">Challenge 1: Opening an Image</h3>"
   ]
  },
  {
   "cell_type": "markdown",
   "metadata": {},
   "source": [
    "Instructions:\n",
    "- Download a .jpg (for example) image\n",
    "- Put that image in the folder containing your jupyternotebook\n",
    "- Use imread function from opencv to open the image file"
   ]
  },
  {
   "cell_type": "code",
   "execution_count": null,
   "metadata": {},
   "outputs": [],
   "source": [
    "# Load your own image\n",
    "image = cv2.imread('.jpg', 0) # 0 for grayscale\n",
    "\n",
    "# Plotting it in a Euclidean space\n",
    "plt.imshow(image, 'gray') # image, grayscale color\n",
    "plt.title('Your image') # title\n",
    "plt.axis('off') # removing the axis\n",
    "plt.show()"
   ]
  },
  {
   "cell_type": "markdown",
   "metadata": {},
   "source": [
    "<h3 style=\"color: #0099CC;\">Challenge 2: Play with the Image</h3>"
   ]
  },
  {
   "cell_type": "markdown",
   "metadata": {},
   "source": [
    "For some pre-processing techniques, having the image inverted helps to detect contorns. E.g: Hough transform.\n",
    "\n",
    "For this challenge, try to invert the colors of the image, use StackOverFlow, Google and the libraries (OpenCV) to solve the challenge. - Avoid ChatGPT..."
   ]
  },
  {
   "cell_type": "code",
   "execution_count": null,
   "metadata": {},
   "outputs": [],
   "source": [
    "# Inverted images colors (dark background and bridge contorns make it easier for Hough transform)\n",
    "# Your code to invert the image here:\n",
    "\n",
    "# Showing the image\n",
    "plt.imshow(image, 'gray') # image, grayscale color\n",
    "plt.title('Your image - Inverted') # title\n",
    "plt.axis('off') # removing the axis\n",
    "plt.show()"
   ]
  },
  {
   "cell_type": "markdown",
   "metadata": {},
   "source": [
    "<h3 style=\"color: #0099CC;\">Challenge 3: Hough transform</h3>"
   ]
  },
  {
   "cell_type": "markdown",
   "metadata": {},
   "source": [
    "Hough Transform is an image processing technique used to detect features of a particular shape within an image, specially to detect lines, circle and other parametric shapes."
   ]
  },
  {
   "cell_type": "code",
   "execution_count": null,
   "metadata": {},
   "outputs": [],
   "source": [
    "from skimage.transform import hough_line, hough_line_peaks # Hough transform"
   ]
  },
  {
   "cell_type": "code",
   "execution_count": null,
   "metadata": {},
   "outputs": [],
   "source": [
    "# Classic straight-line Hough transform\n",
    "# You can increase/decrease  the number of points if needed. \n",
    "tested_angles = np.linspace(-np.pi / 2, np.pi / 53, 800, endpoint=False)"
   ]
  },
  {
   "cell_type": "markdown",
   "metadata": {},
   "source": [
    "Adapt the code below to apply Hough Transform to your image:\n",
    "* Hint: Use hough_line imported function"
   ]
  },
  {
   "cell_type": "code",
   "execution_count": null,
   "metadata": {},
   "outputs": [],
   "source": [
    "# Perform Hough Transformation to change x, y, to h, theta, dist space.\n",
    "\n",
    "plt.imshow(hspace) # image, grayscale color\n",
    "plt.title('\"Your image\" - Line Peaks') # title\n",
    "plt.axis('off') # removing the axis\n",
    "plt.show()"
   ]
  },
  {
   "cell_type": "markdown",
   "metadata": {},
   "source": [
    "<h3 style=\"color: #0099CC;\">Challenge 4: Pixel matrix</h3>"
   ]
  },
  {
   "cell_type": "code",
   "execution_count": null,
   "metadata": {},
   "outputs": [],
   "source": [
    "import sys # system parameters\n",
    "np.set_printoptions(threshold=sys.maxsize) # ⚙️ to display all rows in a numpy array"
   ]
  },
  {
   "cell_type": "markdown",
   "metadata": {},
   "source": [
    "Images are numbers.**Which** library do we use to manipulate numbers?"
   ]
  },
  {
   "cell_type": "code",
   "execution_count": null,
   "metadata": {},
   "outputs": [],
   "source": [
    "# Convert the image to a pixel matrix\n",
    "# Your code below, convert the image to an array of numbers\n",
    "# pixel_matrix =\n",
    "\n",
    "# Display the pixel matrix\n",
    "print(pixel_matrix)"
   ]
  },
  {
   "cell_type": "markdown",
   "metadata": {},
   "source": [
    "<h3 style=\"color: #0099CC;\">Challenge 5: Rescaling the image</h3>"
   ]
  },
  {
   "cell_type": "markdown",
   "metadata": {},
   "source": [
    "* Reescaling allow us to change the size of an image while maintening its aspect ratio.\n",
    "* Useful to ensure that all images for testing and training have the same dimensions.\n",
    "* Using rescale function from scikit-image, rescale the image to 20%:"
   ]
  },
  {
   "cell_type": "code",
   "execution_count": null,
   "metadata": {},
   "outputs": [],
   "source": [
    "img_rescaled = rescale(image, 1.0 / 3.0, anti_aliasing=False) # ⚙️ play with the settings\n",
    "\n",
    "# Showing the image\n",
    "plt.imshow(img_rescaled, 'gray') # image, grayscale color\n",
    "plt.title('\"Your title\" - Rescaled') # title\n",
    "plt.axis('off') # removing the axis\n",
    "plt.show()"
   ]
  },
  {
   "cell_type": "markdown",
   "metadata": {},
   "source": [
    "<h3 style=\"color: #0099CC;\">Challenge 6: Resize the image</h3>"
   ]
  },
  {
   "cell_type": "markdown",
   "metadata": {},
   "source": [
    "* It's used to normalize the size of images in a dataset.\n",
    "* Play with the settings"
   ]
  },
  {
   "cell_type": "code",
   "execution_count": null,
   "metadata": {},
   "outputs": [],
   "source": [
    "img_resized = resize(image, (200, 200), # ⚙️ play with the settings\n",
    "                     anti_aliasing = True)\n",
    "\n",
    "# Showing the image\n",
    "plt.imshow(img_resized, 'gray') # image, grayscale color\n",
    "plt.title('\"Your title\" - Resized') # title\n",
    "plt.axis('off') # removing the axis\n",
    "plt.show()"
   ]
  },
  {
   "cell_type": "markdown",
   "metadata": {},
   "source": [
    "<h3 style=\"color: #0099CC;\">Challenge 7: Downscale the image</h3>"
   ]
  },
  {
   "cell_type": "markdown",
   "metadata": {},
   "source": [
    "* Downscaling is odd, similar to reescaling; the dimensions of the image are reduced, but it can also lead to quality lost.\n",
    "* It's usually followed by upscaling to retain important details from an image.\n",
    "* Play with the settings"
   ]
  },
  {
   "cell_type": "code",
   "execution_count": null,
   "metadata": {},
   "outputs": [],
   "source": [
    "img_downscaled = downscale_local_mean(image, (8, 8)) # ⚙️ play with the settings\n",
    "\n",
    "# Showing the image\n",
    "plt.imshow(img_downscaled, 'gray') # image, grayscale color\n",
    "plt.title('\"Your title\" - Downscaled') # title\n",
    "plt.axis('off') # removing the axis\n",
    "plt.show()"
   ]
  },
  {
   "cell_type": "markdown",
   "metadata": {},
   "source": [
    "<h3 style=\"color: #0099CC;\">Challenge 8: Morphological Transformations</h3>"
   ]
  },
  {
   "cell_type": "markdown",
   "metadata": {},
   "source": [
    "Using scikit-image, we are gonna use canny edges and Hough transform to detect the circles:"
   ]
  },
  {
   "cell_type": "markdown",
   "metadata": {},
   "source": [
    "The straight line is normally paramaterized as: y = mx + b,\n",
    "\n",
    "Where **m** is the slope and **b** is the intercept.\n",
    "\n",
    "NOTE: **m** goes to infinity for vertical lines"
   ]
  },
  {
   "attachments": {
    "image.png": {
     "image/png": "[encoded data removed]"
    }
   },
   "cell_type": "markdown",
   "metadata": {},
   "source": [
    "![image.png](attachment:image.png)"
   ]
  },
  {
   "cell_type": "markdown",
   "metadata": {},
   "source": [
    "This line can also be represented as:\n",
    "\n",
    "r = r cos 0 + y sin 0\n",
    "\n",
    "Where **r** is the distance from the origin to the closest point on the straight line. (r, 0) corresponds to the Hough space representation of a line."
   ]
  },
  {
   "cell_type": "markdown",
   "metadata": {},
   "source": [
    "**Play with the settings to make it work:**"
   ]
  },
  {
   "cell_type": "code",
   "execution_count": null,
   "metadata": {},
   "outputs": [],
   "source": [
    "# Load picture and detect edges\n",
    "edges = canny(image, sigma=3, low_threshold=10, high_threshold=50)"
   ]
  },
  {
   "cell_type": "code",
   "execution_count": null,
   "metadata": {},
   "outputs": [],
   "source": [
    "# Detect two radii\n",
    "hough_radii = np.arange(20, 35, 2)\n",
    "hough_res = hough_circle(edges, hough_radii)"
   ]
  },
  {
   "cell_type": "code",
   "execution_count": null,
   "metadata": {},
   "outputs": [],
   "source": [
    "# Select the most prominent 3 circles\n",
    "accums, cx, cy, radii = hough_circle_peaks(hough_res, hough_radii,\n",
    "                                           total_num_peaks=3)"
   ]
  },
  {
   "cell_type": "code",
   "execution_count": null,
   "metadata": {},
   "outputs": [],
   "source": [
    "# Draw them\n",
    "fig, ax = plt.subplots(ncols=1, nrows=1, figsize=(10, 4))\n",
    "image = color.gray2rgb(image)\n",
    "for center_y, center_x, radius in zip(cy, cx, radii):\n",
    "    circy, circx = circle_perimeter(center_y, center_x, radius,\n",
    "                                    shape=image.shape)\n",
    "    image[circy, circx] = (220, 20, 20)\n",
    "\n",
    "ax.imshow(image, cmap=plt.cm.gray)\n",
    "plt.show()"
   ]
  },
  {
   "cell_type": "markdown",
   "metadata": {},
   "source": [
    "<h3 style=\"color: #0099CC;\">Challenge 9: Image Pre-processing</h3>"
   ]
  },
  {
   "cell_type": "markdown",
   "metadata": {},
   "source": [
    "Have fun, explore scikit-image library and test one of their examples:\n",
    "- https://scikit-image.org/docs/stable/auto_examples/index.html"
   ]
  }
 ],
 "metadata": {
  "kernelspec": {
   "display_name": "Python 3",
   "language": "python",
   "name": "python3"
  },
  "language_info": {
   "codemirror_mode": {
    "name": "ipython",
    "version": 3
   },
   "file_extension": ".py",
   "mimetype": "text/x-python",
   "name": "python",
   "nbconvert_exporter": "python",
   "pygments_lexer": "ipython3",
   "version": "3.10.12"
  }
 },
 "nbformat": 4,
 "nbformat_minor": 2
}
